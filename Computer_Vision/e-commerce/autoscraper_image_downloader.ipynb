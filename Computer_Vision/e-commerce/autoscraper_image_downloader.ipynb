{
 "cells": [
  {
   "cell_type": "code",
   "execution_count": 1,
   "id": "b37c817a",
   "metadata": {},
   "outputs": [],
   "source": [
    "!pip install autoscraper -q"
   ]
  },
  {
   "cell_type": "code",
   "execution_count": 24,
   "id": "2df190b9",
   "metadata": {},
   "outputs": [],
   "source": [
    "import requests\n",
    "import time\n",
    "import requests\n",
    "from IPython.display import Image, display\n",
    "from autoscraper import AutoScraper\n",
    "import pandas as pd\n",
    "from tqdm import tqdm\n",
    "import os"
   ]
  },
  {
   "cell_type": "code",
   "execution_count": 25,
   "id": "ad79e1b2",
   "metadata": {},
   "outputs": [],
   "source": [
    "def image_downloader(search_query:str, root_dir=None, web_page_count=2, download=False):\n",
    "    try:\n",
    "        # URL for the website\n",
    "        url = 'https://www.flipkart.com/bags-wallets-belts/bags-backpacks/backpacks/pr?sid=reh,4d7,ak9&otracker=nmenu_sub_Men_0_Backpacks'\n",
    "\n",
    "        # Sample of entities we want to download\n",
    "        # In this case, we are downloading images, and the image links are in the wanted_list\n",
    "        wanted_list = [\"https://rukminim1.flixcart.com/image/612/612/xif0q/shopsy-shoe/w/k/z/9-rainbow2-ezdezario-green-original-imagggfgmgeagghq.jpeg?q=70\"]\n",
    "\n",
    "        # Creating an object for AutoScraper\n",
    "        scraper = AutoScraper()\n",
    "\n",
    "        # Building the AutoScraper\n",
    "        scraper.build(url, wanted_list)\n",
    "\n",
    "        # Creating an empty list to store the image URLs\n",
    "        images = []\n",
    "        \n",
    "\n",
    "        for i in range(1, web_page_count + 1):\n",
    "            web_url = f\"https://www.flipkart.com/search?q={str(search_query)}&otracker=search&otracker1=search&marketplace=FLIPKART&as-show=on&as=off&page={i}\"\n",
    "            result = scraper.get_result_similar(web_url)\n",
    "            images.extend(result)\n",
    "        \n",
    "        if download:\n",
    "            # Creating the root directory if it doesn't exist\n",
    "            img_dir = os.path.join(root_dir, 'images')\n",
    "            search_query_item_dir = os.path.join(img_dir, search_query)\n",
    "            os.makedirs(search_query_item_dir, exist_ok=True)\n",
    "\n",
    "            for index, image_url in enumerate(images):\n",
    "                try:\n",
    "                    response = requests.get(image_url)\n",
    "                    if response.status_code == 200:\n",
    "                        image_name = f\"{search_query}_{index + 1}.jpeg\"\n",
    "                        save_path = os.path.join(search_query_item_dir, image_name)\n",
    "                        with open(save_path, 'wb') as file:\n",
    "                            file.write(response.content)\n",
    "                        print(f\"Image downloaded and saved: {save_path}\")\n",
    "                    else:\n",
    "                        print(f\"Failed to download image: {image_url}\")\n",
    "                except Exception as e:\n",
    "                    print(f\"Error occurred while downloading image: {image_url}\")\n",
    "                    print(str(e))\n",
    "        \n",
    "        # Print the total number of downloaded and saved images\n",
    "        image_count = len(os.listdir(search_query_item_dir))\n",
    "        print(f\"Total Images downloaded and saved: {image_count}\")\n",
    "    \n",
    "    except Exception as e:\n",
    "        print(\"An error occurred while executing the image_downloader function.\")\n",
    "        print(str(e))\n",
    "        "
   ]
  },
  {
   "cell_type": "code",
   "execution_count": 102,
   "id": "6a0a0391",
   "metadata": {},
   "outputs": [
    {
     "name": "stdout",
     "output_type": "stream",
     "text": [
      "Total Images downloaded and saved: 399\n"
     ]
    }
   ],
   "source": [
    "# Example usage\n",
    "search_query = \"shirt\"\n",
    "root_directory = os.path.dirname(os.getcwd()) \n",
    "web_page_count = 10\n",
    "download = True\n",
    "\n",
    "image_downloader(search_query, root_directory, web_page_count, download)"
   ]
  },
  {
   "cell_type": "code",
   "execution_count": 105,
   "id": "833f645c",
   "metadata": {},
   "outputs": [
    {
     "name": "stdout",
     "output_type": "stream",
     "text": [
      "Total Images downloaded and saved: 399\n"
     ]
    }
   ],
   "source": [
    "search_query = \"trousers\"\n",
    "root_directory = os.path.dirname(os.getcwd()) \n",
    "web_page_count = 10\n",
    "download = True\n",
    "\n",
    "image_downloader(search_query, root_directory, web_page_count, download)"
   ]
  },
  {
   "cell_type": "code",
   "execution_count": 107,
   "id": "5fdc5beb",
   "metadata": {},
   "outputs": [
    {
     "name": "stdout",
     "output_type": "stream",
     "text": [
      "Total Images downloaded and saved: 399\n"
     ]
    }
   ],
   "source": [
    "search_query = \"Saree\"\n",
    "root_directory = os.path.dirname(os.getcwd()) \n",
    "web_page_count = 10\n",
    "download = True\n",
    "\n",
    "image_downloader(search_query, root_directory, web_page_count, download)"
   ]
  },
  {
   "cell_type": "code",
   "execution_count": 28,
   "id": "9cab9926",
   "metadata": {},
   "outputs": [
    {
     "name": "stdout",
     "output_type": "stream",
     "text": [
      "Total Images downloaded and saved: 0\n"
     ]
    }
   ],
   "source": [
    "search_query = \"Backpacks\"\n",
    "root_directory = os.path.dirname(os.getcwd()) \n",
    "web_page_count = 10\n",
    "download = True\n",
    "\n",
    "image_downloader(search_query, root_directory, web_page_count, download)"
   ]
  }
 ],
 "metadata": {
  "kernelspec": {
   "display_name": "cloths",
   "language": "python",
   "name": "cloths"
  },
  "language_info": {
   "codemirror_mode": {
    "name": "ipython",
    "version": 3
   },
   "file_extension": ".py",
   "mimetype": "text/x-python",
   "name": "python",
   "nbconvert_exporter": "python",
   "pygments_lexer": "ipython3",
   "version": "3.8.16"
  }
 },
 "nbformat": 4,
 "nbformat_minor": 5
}
