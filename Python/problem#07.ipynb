{
 "cells": [
  {
   "cell_type": "code",
   "execution_count": null,
   "metadata": {},
   "outputs": [],
   "source": [
    "%pip install pandas -q\n",
    "%pip install matplotlib\n",
    "%pip install numpy \n",
    "%pip install seaborn"
   ]
  },
  {
   "cell_type": "code",
   "execution_count": 35,
   "metadata": {},
   "outputs": [
    {
     "data": {
      "text/html": [
       "<div>\n",
       "<style scoped>\n",
       "    .dataframe tbody tr th:only-of-type {\n",
       "        vertical-align: middle;\n",
       "    }\n",
       "\n",
       "    .dataframe tbody tr th {\n",
       "        vertical-align: top;\n",
       "    }\n",
       "\n",
       "    .dataframe thead th {\n",
       "        text-align: right;\n",
       "    }\n",
       "</style>\n",
       "<table border=\"1\" class=\"dataframe\">\n",
       "  <thead>\n",
       "    <tr style=\"text-align: right;\">\n",
       "      <th></th>\n",
       "      <th>name</th>\n",
       "      <th>id</th>\n",
       "      <th>nametype</th>\n",
       "      <th>recclass</th>\n",
       "      <th>mass</th>\n",
       "      <th>fall</th>\n",
       "      <th>year</th>\n",
       "      <th>reclat</th>\n",
       "      <th>reclong</th>\n",
       "      <th>coordinates</th>\n",
       "    </tr>\n",
       "  </thead>\n",
       "  <tbody>\n",
       "    <tr>\n",
       "      <th>0</th>\n",
       "      <td>Aachen</td>\n",
       "      <td>1</td>\n",
       "      <td>Valid</td>\n",
       "      <td>L5</td>\n",
       "      <td>21.0</td>\n",
       "      <td>Fell</td>\n",
       "      <td>1880-01-01</td>\n",
       "      <td>50.77500</td>\n",
       "      <td>6.08333</td>\n",
       "      <td>[6.08333, 50.775]</td>\n",
       "    </tr>\n",
       "    <tr>\n",
       "      <th>1</th>\n",
       "      <td>Aarhus</td>\n",
       "      <td>2</td>\n",
       "      <td>Valid</td>\n",
       "      <td>H6</td>\n",
       "      <td>720.0</td>\n",
       "      <td>Fell</td>\n",
       "      <td>1951-01-01</td>\n",
       "      <td>56.18333</td>\n",
       "      <td>10.23333</td>\n",
       "      <td>[10.23333, 56.18333]</td>\n",
       "    </tr>\n",
       "    <tr>\n",
       "      <th>2</th>\n",
       "      <td>Abee</td>\n",
       "      <td>6</td>\n",
       "      <td>Valid</td>\n",
       "      <td>EH4</td>\n",
       "      <td>107000.0</td>\n",
       "      <td>Fell</td>\n",
       "      <td>1952-01-01</td>\n",
       "      <td>54.21667</td>\n",
       "      <td>-113.00000</td>\n",
       "      <td>[-113, 54.21667]</td>\n",
       "    </tr>\n",
       "    <tr>\n",
       "      <th>3</th>\n",
       "      <td>Acapulco</td>\n",
       "      <td>10</td>\n",
       "      <td>Valid</td>\n",
       "      <td>Acapulcoite</td>\n",
       "      <td>1914.0</td>\n",
       "      <td>Fell</td>\n",
       "      <td>1976-01-01</td>\n",
       "      <td>16.88333</td>\n",
       "      <td>-99.90000</td>\n",
       "      <td>[-99.9, 16.88333]</td>\n",
       "    </tr>\n",
       "    <tr>\n",
       "      <th>4</th>\n",
       "      <td>Achiras</td>\n",
       "      <td>370</td>\n",
       "      <td>Valid</td>\n",
       "      <td>L6</td>\n",
       "      <td>780.0</td>\n",
       "      <td>Fell</td>\n",
       "      <td>1902-01-01</td>\n",
       "      <td>-33.16667</td>\n",
       "      <td>-64.95000</td>\n",
       "      <td>[-64.95, -33.16667]</td>\n",
       "    </tr>\n",
       "  </tbody>\n",
       "</table>\n",
       "</div>"
      ],
      "text/plain": [
       "       name   id nametype     recclass      mass  fall        year    reclat   \n",
       "0    Aachen    1    Valid           L5      21.0  Fell  1880-01-01  50.77500  \\\n",
       "1    Aarhus    2    Valid           H6     720.0  Fell  1951-01-01  56.18333   \n",
       "2      Abee    6    Valid          EH4  107000.0  Fell  1952-01-01  54.21667   \n",
       "3  Acapulco   10    Valid  Acapulcoite    1914.0  Fell  1976-01-01  16.88333   \n",
       "4   Achiras  370    Valid           L6     780.0  Fell  1902-01-01 -33.16667   \n",
       "\n",
       "     reclong           coordinates  \n",
       "0    6.08333     [6.08333, 50.775]  \n",
       "1   10.23333  [10.23333, 56.18333]  \n",
       "2 -113.00000      [-113, 54.21667]  \n",
       "3  -99.90000     [-99.9, 16.88333]  \n",
       "4  -64.95000   [-64.95, -33.16667]  "
      ]
     },
     "execution_count": 35,
     "metadata": {},
     "output_type": "execute_result"
    }
   ],
   "source": [
    "import pandas as pd \n",
    "import numpy as np \n",
    "import matplotlib.pyplot as plt \n",
    "import seaborn as sns\n",
    "\n",
    "# importing the dataset \n",
    "df = pd.read_csv('nasa.csv')\n",
    "\n",
    "# top 5 rows of the dataset \n",
    "df.head()"
   ]
  },
  {
   "cell_type": "markdown",
   "metadata": {},
   "source": [
    "## Get all the Earth meteorites that fell before the year 2000"
   ]
  },
  {
   "cell_type": "code",
   "execution_count": 44,
   "metadata": {},
   "outputs": [],
   "source": [
    "# changing the datatype \n",
    "df['year'] = pd.to_datetime(df['year'])"
   ]
  },
  {
   "cell_type": "code",
   "execution_count": 16,
   "metadata": {},
   "outputs": [
    {
     "name": "stdout",
     "output_type": "stream",
     "text": [
      "Total Earth meteorites that fell before the year 2000: 912\n"
     ]
    },
    {
     "data": {
      "text/html": [
       "<div>\n",
       "<style scoped>\n",
       "    .dataframe tbody tr th:only-of-type {\n",
       "        vertical-align: middle;\n",
       "    }\n",
       "\n",
       "    .dataframe tbody tr th {\n",
       "        vertical-align: top;\n",
       "    }\n",
       "\n",
       "    .dataframe thead th {\n",
       "        text-align: right;\n",
       "    }\n",
       "</style>\n",
       "<table border=\"1\" class=\"dataframe\">\n",
       "  <thead>\n",
       "    <tr style=\"text-align: right;\">\n",
       "      <th></th>\n",
       "      <th>name</th>\n",
       "      <th>id</th>\n",
       "      <th>nametype</th>\n",
       "      <th>recclass</th>\n",
       "      <th>mass</th>\n",
       "      <th>fall</th>\n",
       "      <th>year</th>\n",
       "      <th>reclat</th>\n",
       "      <th>reclong</th>\n",
       "      <th>coordinates</th>\n",
       "    </tr>\n",
       "  </thead>\n",
       "  <tbody>\n",
       "    <tr>\n",
       "      <th>750</th>\n",
       "      <td>Padvarninkai</td>\n",
       "      <td>18069</td>\n",
       "      <td>Valid</td>\n",
       "      <td>Eucrite-mmict</td>\n",
       "      <td>3858.0</td>\n",
       "      <td>Fell</td>\n",
       "      <td>1929-01-01</td>\n",
       "      <td>55.66667</td>\n",
       "      <td>25.00000</td>\n",
       "      <td>[25, 55.66667]</td>\n",
       "    </tr>\n",
       "    <tr>\n",
       "      <th>703</th>\n",
       "      <td>Noblesville</td>\n",
       "      <td>16985</td>\n",
       "      <td>Valid</td>\n",
       "      <td>H4-6</td>\n",
       "      <td>483.7</td>\n",
       "      <td>Fell</td>\n",
       "      <td>1991-01-01</td>\n",
       "      <td>40.08528</td>\n",
       "      <td>-86.05500</td>\n",
       "      <td>[-86.055, 40.08528]</td>\n",
       "    </tr>\n",
       "    <tr>\n",
       "      <th>758</th>\n",
       "      <td>Pampanga</td>\n",
       "      <td>18093</td>\n",
       "      <td>Valid</td>\n",
       "      <td>L5</td>\n",
       "      <td>10500.0</td>\n",
       "      <td>Fell</td>\n",
       "      <td>1859-01-01</td>\n",
       "      <td>15.08333</td>\n",
       "      <td>120.70000</td>\n",
       "      <td>[120.7, 15.08333]</td>\n",
       "    </tr>\n",
       "    <tr>\n",
       "      <th>697</th>\n",
       "      <td>Nikolskoe</td>\n",
       "      <td>16977</td>\n",
       "      <td>Valid</td>\n",
       "      <td>L4</td>\n",
       "      <td>6000.0</td>\n",
       "      <td>Fell</td>\n",
       "      <td>1954-01-01</td>\n",
       "      <td>56.11667</td>\n",
       "      <td>37.33333</td>\n",
       "      <td>[37.33333, 56.11667]</td>\n",
       "    </tr>\n",
       "    <tr>\n",
       "      <th>408</th>\n",
       "      <td>Jajh deh Kot Lalu</td>\n",
       "      <td>12067</td>\n",
       "      <td>Valid</td>\n",
       "      <td>EL6</td>\n",
       "      <td>973.0</td>\n",
       "      <td>Fell</td>\n",
       "      <td>1926-01-01</td>\n",
       "      <td>26.75000</td>\n",
       "      <td>68.41667</td>\n",
       "      <td>[68.41667, 26.75]</td>\n",
       "    </tr>\n",
       "  </tbody>\n",
       "</table>\n",
       "</div>"
      ],
      "text/plain": [
       "                  name     id nametype       recclass     mass  fall   \n",
       "750       Padvarninkai  18069    Valid  Eucrite-mmict   3858.0  Fell  \\\n",
       "703        Noblesville  16985    Valid           H4-6    483.7  Fell   \n",
       "758           Pampanga  18093    Valid             L5  10500.0  Fell   \n",
       "697          Nikolskoe  16977    Valid             L4   6000.0  Fell   \n",
       "408  Jajh deh Kot Lalu  12067    Valid            EL6    973.0  Fell   \n",
       "\n",
       "          year    reclat    reclong           coordinates  \n",
       "750 1929-01-01  55.66667   25.00000        [25, 55.66667]  \n",
       "703 1991-01-01  40.08528  -86.05500   [-86.055, 40.08528]  \n",
       "758 1859-01-01  15.08333  120.70000     [120.7, 15.08333]  \n",
       "697 1954-01-01  56.11667   37.33333  [37.33333, 56.11667]  \n",
       "408 1926-01-01  26.75000   68.41667     [68.41667, 26.75]  "
      ]
     },
     "execution_count": 16,
     "metadata": {},
     "output_type": "execute_result"
    }
   ],
   "source": [
    "df_1 = df[df['year'].dt.year<2000]\n",
    "print(f\"Total Earth meteorites that fell before the year 2000: {df_1.shape[0]}\")\n",
    "df_1.sample(5)"
   ]
  },
  {
   "cell_type": "code",
   "execution_count": 30,
   "metadata": {},
   "outputs": [
    {
     "name": "stdout",
     "output_type": "stream",
     "text": [
      "Total Earth meteorites that fell on and after the year 2000: 70\n"
     ]
    },
    {
     "data": {
      "text/html": [
       "<div>\n",
       "<style scoped>\n",
       "    .dataframe tbody tr th:only-of-type {\n",
       "        vertical-align: middle;\n",
       "    }\n",
       "\n",
       "    .dataframe tbody tr th {\n",
       "        vertical-align: top;\n",
       "    }\n",
       "\n",
       "    .dataframe thead th {\n",
       "        text-align: right;\n",
       "    }\n",
       "</style>\n",
       "<table border=\"1\" class=\"dataframe\">\n",
       "  <thead>\n",
       "    <tr style=\"text-align: right;\">\n",
       "      <th></th>\n",
       "      <th>name</th>\n",
       "      <th>id</th>\n",
       "      <th>nametype</th>\n",
       "      <th>recclass</th>\n",
       "      <th>mass</th>\n",
       "      <th>fall</th>\n",
       "      <th>year</th>\n",
       "      <th>reclat</th>\n",
       "      <th>reclong</th>\n",
       "      <th>coordinates</th>\n",
       "    </tr>\n",
       "  </thead>\n",
       "  <tbody>\n",
       "    <tr>\n",
       "      <th>757</th>\n",
       "      <td>Dominion Range 03239</td>\n",
       "      <td>32591</td>\n",
       "      <td>Valid</td>\n",
       "      <td>L6</td>\n",
       "      <td>69.5</td>\n",
       "      <td>Found</td>\n",
       "      <td>2002-01-01</td>\n",
       "      <td>NaN</td>\n",
       "      <td>NaN</td>\n",
       "      <td>NaN</td>\n",
       "    </tr>\n",
       "    <tr>\n",
       "      <th>169</th>\n",
       "      <td>Carancas</td>\n",
       "      <td>45817</td>\n",
       "      <td>Valid</td>\n",
       "      <td>H4-5</td>\n",
       "      <td>342.0</td>\n",
       "      <td>Fell</td>\n",
       "      <td>2007-01-01</td>\n",
       "      <td>-16.66444</td>\n",
       "      <td>-69.04389</td>\n",
       "      <td>[-69.04389, -16.66444]</td>\n",
       "    </tr>\n",
       "    <tr>\n",
       "      <th>137</th>\n",
       "      <td>Boumdeid (2003)</td>\n",
       "      <td>57168</td>\n",
       "      <td>Valid</td>\n",
       "      <td>L6</td>\n",
       "      <td>190.0</td>\n",
       "      <td>Fell</td>\n",
       "      <td>2003-01-01</td>\n",
       "      <td>17.71067</td>\n",
       "      <td>-11.37150</td>\n",
       "      <td>[-11.3715, 17.71067]</td>\n",
       "    </tr>\n",
       "    <tr>\n",
       "      <th>978</th>\n",
       "      <td>Tamdakht</td>\n",
       "      <td>48691</td>\n",
       "      <td>Valid</td>\n",
       "      <td>H5</td>\n",
       "      <td>100000.0</td>\n",
       "      <td>Fell</td>\n",
       "      <td>2008-01-01</td>\n",
       "      <td>31.16333</td>\n",
       "      <td>-7.01500</td>\n",
       "      <td>[-7.015, 31.16333]</td>\n",
       "    </tr>\n",
       "    <tr>\n",
       "      <th>99</th>\n",
       "      <td>Bensour</td>\n",
       "      <td>5024</td>\n",
       "      <td>Valid</td>\n",
       "      <td>LL6</td>\n",
       "      <td>45000.0</td>\n",
       "      <td>Fell</td>\n",
       "      <td>2002-01-01</td>\n",
       "      <td>30.00000</td>\n",
       "      <td>-7.00000</td>\n",
       "      <td>[-7, 30]</td>\n",
       "    </tr>\n",
       "  </tbody>\n",
       "</table>\n",
       "</div>"
      ],
      "text/plain": [
       "                     name     id nametype recclass      mass   fall   \n",
       "757  Dominion Range 03239  32591    Valid       L6      69.5  Found  \\\n",
       "169              Carancas  45817    Valid     H4-5     342.0   Fell   \n",
       "137       Boumdeid (2003)  57168    Valid       L6     190.0   Fell   \n",
       "978              Tamdakht  48691    Valid       H5  100000.0   Fell   \n",
       "99                Bensour   5024    Valid      LL6   45000.0   Fell   \n",
       "\n",
       "          year    reclat   reclong             coordinates  \n",
       "757 2002-01-01       NaN       NaN                     NaN  \n",
       "169 2007-01-01 -16.66444 -69.04389  [-69.04389, -16.66444]  \n",
       "137 2003-01-01  17.71067 -11.37150    [-11.3715, 17.71067]  \n",
       "978 2008-01-01  31.16333  -7.01500      [-7.015, 31.16333]  \n",
       "99  2002-01-01  30.00000  -7.00000                [-7, 30]  "
      ]
     },
     "execution_count": 30,
     "metadata": {},
     "output_type": "execute_result"
    }
   ],
   "source": [
    "df_2 = df[df['year'].dt.year>=2000]\n",
    "\n",
    "print(f\"Total Earth meteorites that fell on and after the year 2000: {df_2.shape[0]}\")\n",
    "df_2.sample(5)"
   ]
  },
  {
   "cell_type": "code",
   "execution_count": 31,
   "metadata": {},
   "outputs": [
    {
     "data": {
      "text/plain": [
       "name            0\n",
       "id              0\n",
       "nametype        0\n",
       "recclass        0\n",
       "mass           28\n",
       "fall            0\n",
       "year           18\n",
       "reclat         12\n",
       "reclong        12\n",
       "coordinates    12\n",
       "dtype: int64"
      ]
     },
     "execution_count": 31,
     "metadata": {},
     "output_type": "execute_result"
    }
   ],
   "source": [
    "# checking for missing values in dataset\n",
    "df.isnull().sum()"
   ]
  },
  {
   "cell_type": "code",
   "execution_count": 41,
   "metadata": {},
   "outputs": [
    {
     "data": {
      "image/png": "[encoded data removed]",
      "text/plain": [
       "<Figure size 640x480 with 1 Axes>"
      ]
     },
     "metadata": {},
     "output_type": "display_data"
    }
   ],
   "source": [
    "# Get the shape of the DataFrames\n",
    "df_1_shape = df_1.shape\n",
    "df_2_shape = df_2.shape\n",
    "\n",
    "# Set the colors for the bars\n",
    "colors = ['#f57842', '#42f5bc']\n",
    "\n",
    "# Create a bar plot to show the shape of the DataFrames\n",
    "plt.bar(['before the year 2000', 'on and after the year 2000'], [df_1_shape[0], df_2_shape[0]], color=colors)\n",
    "\n",
    "# Set the labels and title of the plot\n",
    "plt.xlabel('year')\n",
    "plt.ylabel('meteorites count')\n",
    "plt.title('Total meteorites that fell')\n",
    "\n",
    "# Show the plot\n",
    "plt.show()\n"
   ]
  },
  {
   "cell_type": "markdown",
   "metadata": {},
   "source": [
    "## Get all the earth meteorites co-ordinates who fell before the year 1970"
   ]
  },
  {
   "cell_type": "code",
   "execution_count": 58,
   "metadata": {},
   "outputs": [
    {
     "name": "stdout",
     "output_type": "stream",
     "text": [
      "Total meteorites who fell before the year 1970: 763\n",
      "Earth meteorites co-ordinates who fell before the year 1970:\n",
      "0          [6.08333, 50.775]\n",
      "1       [10.23333, 56.18333]\n",
      "2           [-113, 54.21667]\n",
      "4        [-64.95, -33.16667]\n",
      "5               [71.8, 32.1]\n",
      "               ...          \n",
      "994             [35.2, 54.5]\n",
      "995     [79.41667, 13.63333]\n",
      "997    [111.53333, -7.08333]\n",
      "998    [106.58333, -6.66667]\n",
      "999        [34.76667, 47.85]\n",
      "Name: coordinates, Length: 763, dtype: object\n"
     ]
    }
   ],
   "source": [
    "df_3 = df[df['year'].dt.year<1970]\n",
    "\n",
    "print(f\"Total meteorites who fell before the year 1970: {df_3.shape[0]}\")\n",
    "\n",
    "print(f\"Earth meteorites co-ordinates who fell before the year 1970:\\n{df_3['coordinates']}\")"
   ]
  },
  {
   "cell_type": "markdown",
   "metadata": {},
   "source": [
    "## Assuming that the mass of the earth meteorites was in kg, get all those whose mass was more than 10000kg\n"
   ]
  },
  {
   "cell_type": "code",
   "execution_count": 74,
   "metadata": {},
   "outputs": [
    {
     "name": "stdout",
     "output_type": "stream",
     "text": [
      "Total Earth meteorites whose mass was more than 10000kg: 243\n",
      "Total Earth meteorites whose mass was less than 10000kg: 722\n"
     ]
    },
    {
     "data": {
      "image/png": "[encoded data removed]",
      "text/plain": [
       "<Figure size 640x480 with 1 Axes>"
      ]
     },
     "metadata": {},
     "output_type": "display_data"
    }
   ],
   "source": [
    "df_4 = df[df['mass']>10000]\n",
    "df_5 = df[df['mass']<10000]\n",
    "print(f\"Total Earth meteorites whose mass was more than 10000kg: {df_4.shape[0]}\")\n",
    "print(f\"Total Earth meteorites whose mass was less than 10000kg: {df_5.shape[0]}\")\n",
    "\n",
    "# Get the shape of the DataFrames\n",
    "df_4_shape = df_4.shape\n",
    "df_5_shape = df_5.shape\n",
    "\n",
    "# Set the colors for the bars\n",
    "colors = ['#9e42f5', '#42ddf5']\n",
    "\n",
    "# Create a bar plot to show the shape of the DataFrames\n",
    "plt.bar(['mass more than 10000kg', 'mass less than 10000kg'], [df_4_shape[0], df_5_shape[0]], color=colors)\n",
    "\n",
    "# Set the labels and title of the plot\n",
    "plt.xlabel('mass of the meteorites in kg')\n",
    "plt.ylabel('meteorites count')\n",
    "plt.title('Total meteorites that fell')\n",
    "\n",
    "# Show the plot\n",
    "plt.show()\n"
   ]
  }
 ],
 "metadata": {
  "kernelspec": {
   "display_name": "Python 3.8.10 64-bit",
   "language": "python",
   "name": "python3"
  },
  "language_info": {
   "codemirror_mode": {
    "name": "ipython",
    "version": 3
   },
   "file_extension": ".py",
   "mimetype": "text/x-python",
   "name": "python",
   "nbconvert_exporter": "python",
   "pygments_lexer": "ipython3",
   "version": "3.8.10"
  },
  "orig_nbformat": 4,
  "vscode": {
   "interpreter": {
    "hash": "e7370f93d1d0cde622a1f8e1c04877d8463912d04d973331ad4851f04de6915a"
   }
  }
 },
 "nbformat": 4,
 "nbformat_minor": 2
}
