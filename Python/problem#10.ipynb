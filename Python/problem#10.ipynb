{
 "cells": [
  {
   "cell_type": "code",
   "execution_count": 6,
   "metadata": {},
   "outputs": [
    {
     "name": "stdout",
     "output_type": "stream",
     "text": [
      "{'nouns': 2, 'pronouns': 1, 'verbs': 1, 'adjectives': 4}\n"
     ]
    }
   ],
   "source": [
    "import spacy\n",
    "\n",
    "def count_pos(phrase):\n",
    "    # Load the English language model\n",
    "    nlp = spacy.load(\"en_core_web_sm\")\n",
    "    \n",
    "\n",
    "    # Process the phrase using the language model\n",
    "    doc = nlp(phrase)\n",
    "\n",
    "    # Initialize counts for each part of speech\n",
    "    pos_counts = {\n",
    "        'nouns': 0,\n",
    "        'pronouns': 0,\n",
    "        'verbs': 0,\n",
    "        'adjectives': 0\n",
    "    }\n",
    "\n",
    "    # Iterate over each token in the processed document\n",
    "    for token in doc:\n",
    "        if token.pos_ == 'NOUN':\n",
    "            pos_counts['nouns'] += 1\n",
    "        elif token.pos_ == 'PRON':\n",
    "            pos_counts['pronouns'] += 1\n",
    "        elif token.pos_ == 'VERB':\n",
    "            pos_counts['verbs'] += 1\n",
    "        elif token.pos_ == 'ADJ':\n",
    "            pos_counts['adjectives'] += 1\n",
    "\n",
    "    return pos_counts\n",
    "\n",
    "# Example usage\n",
    "phrase = \"The quick brown fox jumps over the lazy dog. He is very happy.\"\n",
    "counts = count_pos(phrase)\n",
    "print(counts)\n"
   ]
  }
 ],
 "metadata": {
  "kernelspec": {
   "display_name": "Python 3.8.10 64-bit",
   "language": "python",
   "name": "python3"
  },
  "language_info": {
   "codemirror_mode": {
    "name": "ipython",
    "version": 3
   },
   "file_extension": ".py",
   "mimetype": "text/x-python",
   "name": "python",
   "nbconvert_exporter": "python",
   "pygments_lexer": "ipython3",
   "version": "3.8.10"
  },
  "orig_nbformat": 4,
  "vscode": {
   "interpreter": {
    "hash": "e7370f93d1d0cde622a1f8e1c04877d8463912d04d973331ad4851f04de6915a"
   }
  }
 },
 "nbformat": 4,
 "nbformat_minor": 2
}
